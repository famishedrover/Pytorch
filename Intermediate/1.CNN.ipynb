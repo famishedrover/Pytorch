{
 "cells": [
  {
   "cell_type": "markdown",
   "metadata": {},
   "source": [
    "# Convolutional Neural Network"
   ]
  },
  {
   "cell_type": "code",
   "execution_count": 1,
   "metadata": {},
   "outputs": [],
   "source": [
    "# imports \n",
    "import torch\n",
    "import torch.nn as nn\n",
    "import torchvision.datasets as datasets \n",
    "import torchvision.transforms as transforms\n",
    "from torch.autograd import Variable"
   ]
  },
  {
   "cell_type": "code",
   "execution_count": 2,
   "metadata": {},
   "outputs": [],
   "source": [
    "# HyperParameters\n",
    "epochs = 5\n",
    "batch_size = 100\n",
    "learning_rate = 0.001"
   ]
  },
  {
   "cell_type": "code",
   "execution_count": 3,
   "metadata": {},
   "outputs": [],
   "source": [
    "# MNIST Dataset\n",
    "train_dataset = datasets.MNIST(root='./data',\n",
    "                              train=True,\n",
    "                              transform=transforms.ToTensor(),\n",
    "                              download=True)\n",
    "test_dataset = datasets.MNIST(root='./data',\n",
    "                             train=False,\n",
    "                             transform=transforms.ToTensor())"
   ]
  },
  {
   "cell_type": "code",
   "execution_count": 4,
   "metadata": {},
   "outputs": [],
   "source": [
    "# Data Loader\n",
    "train_loader = torch.utils.data.DataLoader(dataset=train_dataset,\n",
    "                                          batch_size=batch_size,\n",
    "                                          shuffle=True)\n",
    "test_loader = torch.utils.data.DataLoader(dataset=test_dataset,\n",
    "                                         batch_size=batch_size,\n",
    "                                         shuffle=False)"
   ]
  },
  {
   "cell_type": "code",
   "execution_count": 5,
   "metadata": {},
   "outputs": [
    {
     "name": "stdout",
     "output_type": "stream",
     "text": [
      "Output of MaxPool2d: torch.Size([1, 1, 14, 14])\n",
      "Output of Conv2d   : torch.Size([1, 16, 28, 28])\n"
     ]
    }
   ],
   "source": [
    "# Syntax for Conv2d\n",
    "# nn.Conv2d(in_channels,out_channels,kernel_size,stride,padding)\n",
    "# nn.BatchNorm2d(num_features)\n",
    "inputnew = Variable(torch.randn(1, 1, 28, 28))\n",
    "m = nn.MaxPool2d(2)\n",
    "c =nn.Conv2d(1,16,kernel_size=5,padding=2)\n",
    "v = m(inputnew)\n",
    "vc = c(inputnew)\n",
    "print 'Output of MaxPool2d:',v.size()\n",
    "print 'Output of Conv2d   :',vc.size()"
   ]
  },
  {
   "cell_type": "code",
   "execution_count": null,
   "metadata": {},
   "outputs": [],
   "source": []
  },
  {
   "cell_type": "code",
   "execution_count": 6,
   "metadata": {},
   "outputs": [],
   "source": [
    "# CNN Model - 2 Layers\n",
    "class CNN(nn.Module):\n",
    "    def __init__(self):\n",
    "        super(CNN,self).__init__()\n",
    "        \n",
    "        self.layer1 = nn.Sequential(\n",
    "        nn.Conv2d(1,16,kernel_size=5,padding=2), #1*28*28 -> 16*28*28\n",
    "        nn.BatchNorm2d(16),\n",
    "        nn.ReLU(),\n",
    "        nn.MaxPool2d(2)) #16*28*28 -> 16*14*14\n",
    "        \n",
    "        self.layer2 = nn.Sequential(\n",
    "        nn.Conv2d(16,32,kernel_size=5,padding=2),#16*14*14 -> 32*14*14\n",
    "        nn.BatchNorm2d(32),\n",
    "        nn.ReLU(),\n",
    "        nn.MaxPool2d(2))#32*14*14 -> 32*7*7\n",
    "        # Flatten after this from rows*32*7*7 to rows*(32x7x7) = rows*(1568)\n",
    "        self.fc = nn.Linear(32*7*7,10)\n",
    "    \n",
    "    def forward(self,x):\n",
    "        out = self.layer1(x)\n",
    "        out = self.layer2(out)\n",
    "        out = out.view(out.size(0),-1)\n",
    "        out = self.fc(out)\n",
    "        return out"
   ]
  },
  {
   "cell_type": "code",
   "execution_count": 7,
   "metadata": {},
   "outputs": [],
   "source": [
    "# Model \n",
    "cnn = CNN()"
   ]
  },
  {
   "cell_type": "code",
   "execution_count": 8,
   "metadata": {},
   "outputs": [],
   "source": [
    "# Loss & Optimizer \n",
    "criterion = nn.CrossEntropyLoss()\n",
    "optimizer = torch.optim.Adam(cnn.parameters() , lr=learning_rate)"
   ]
  },
  {
   "cell_type": "code",
   "execution_count": 11,
   "metadata": {},
   "outputs": [
    {
     "name": "stdout",
     "output_type": "stream",
     "text": [
      "Epoch [1/5], Iter [100/600] Loss: 0.0238\n",
      "Epoch [1/5], Iter [200/600] Loss: 0.0219\n",
      "Epoch [1/5], Iter [300/600] Loss: 0.0163\n",
      "Epoch [1/5], Iter [400/600] Loss: 0.0235\n",
      "Epoch [1/5], Iter [500/600] Loss: 0.0024\n",
      "Epoch [1/5], Iter [600/600] Loss: 0.0415\n",
      "Epoch [2/5], Iter [100/600] Loss: 0.0113\n",
      "Epoch [2/5], Iter [200/600] Loss: 0.0039\n",
      "Epoch [2/5], Iter [300/600] Loss: 0.0334\n",
      "Epoch [2/5], Iter [400/600] Loss: 0.0106\n",
      "Epoch [2/5], Iter [500/600] Loss: 0.0207\n",
      "Epoch [2/5], Iter [600/600] Loss: 0.0126\n",
      "Epoch [3/5], Iter [100/600] Loss: 0.0072\n",
      "Epoch [3/5], Iter [200/600] Loss: 0.0100\n",
      "Epoch [3/5], Iter [300/600] Loss: 0.0147\n",
      "Epoch [3/5], Iter [400/600] Loss: 0.0281\n",
      "Epoch [3/5], Iter [500/600] Loss: 0.0075\n",
      "Epoch [3/5], Iter [600/600] Loss: 0.0148\n",
      "Epoch [4/5], Iter [100/600] Loss: 0.0025\n",
      "Epoch [4/5], Iter [200/600] Loss: 0.0019\n",
      "Epoch [4/5], Iter [300/600] Loss: 0.0099\n",
      "Epoch [4/5], Iter [400/600] Loss: 0.0127\n",
      "Epoch [4/5], Iter [500/600] Loss: 0.0045\n",
      "Epoch [4/5], Iter [600/600] Loss: 0.0014\n",
      "Epoch [5/5], Iter [100/600] Loss: 0.0008\n",
      "Epoch [5/5], Iter [200/600] Loss: 0.0032\n",
      "Epoch [5/5], Iter [300/600] Loss: 0.0095\n",
      "Epoch [5/5], Iter [400/600] Loss: 0.0091\n",
      "Epoch [5/5], Iter [500/600] Loss: 0.0023\n",
      "Epoch [5/5], Iter [600/600] Loss: 0.0072\n"
     ]
    }
   ],
   "source": [
    "# Train Model \n",
    "for epoch in range(epochs):\n",
    "    for i,(images,labels) in enumerate(train_loader):\n",
    "        #images are passed in 2D format for CNN -> 28x28\n",
    "        images = Variable(images)\n",
    "        labels = Variable(labels)\n",
    "        \n",
    "        #Forward->loss->Backprop->Optimize\n",
    "        optimizer.zero_grad()\n",
    "        outputs = cnn(images)\n",
    "        \n",
    "        loss = criterion(outputs,labels)\n",
    "        \n",
    "        loss.backward()\n",
    "        \n",
    "        optimizer.step()\n",
    "        \n",
    "        if (i+1) % 100 == 0:\n",
    "            print ('Epoch [%d/%d], Iter [%d/%d] Loss: %.4f' \n",
    "                   %(epoch+1, epochs, i+1, len(train_dataset)//batch_size, loss.data[0]))"
   ]
  },
  {
   "cell_type": "code",
   "execution_count": 12,
   "metadata": {},
   "outputs": [
    {
     "name": "stdout",
     "output_type": "stream",
     "text": [
      "For  10000  training images Accuracy is: 99.1\n"
     ]
    }
   ],
   "source": [
    "# Test \n",
    "# change the model to evaluation mode\n",
    "# BatchNormalization uses moving mean/variance \n",
    "cnn.eval()\n",
    "correct = 0\n",
    "total = 0\n",
    "\n",
    "for images,labels in test_loader:\n",
    "    images = Variable(images)\n",
    "    outputs = cnn(images)\n",
    "    _,predicted = torch.max(outputs.data,1)\n",
    "    total += labels.size(0)\n",
    "    correct += (predicted==labels).sum()\n",
    "    \n",
    "print 'For ',total,' training images Accuracy is:',(correct/float(total))*100"
   ]
  },
  {
   "cell_type": "code",
   "execution_count": 15,
   "metadata": {},
   "outputs": [
    {
     "name": "stdout",
     "output_type": "stream",
     "text": [
      "Without eval mode.\n",
      "For  10000  training images Accuracy is: 94.15\n"
     ]
    }
   ],
   "source": [
    "# Test without changing to eval mode.\n",
    "# change the model to evaluation mode\n",
    "# BatchNormalization uses moving mean/variance \n",
    "cnn.train()\n",
    "correct = 0\n",
    "total = 0\n",
    "\n",
    "for images,labels in test_loader:\n",
    "    images = Variable(images)\n",
    "    outputs = cnn(images)\n",
    "    _,predicted = torch.max(outputs.data,1)\n",
    "    total += labels.size(0)\n",
    "    correct += (predicted==labels).sum()\n",
    "print 'Without eval mode.'\n",
    "print 'For ',total,' training images Accuracy is:',(correct/float(total))*100"
   ]
  },
  {
   "cell_type": "code",
   "execution_count": 14,
   "metadata": {},
   "outputs": [],
   "source": [
    "# Save Model Weights\n",
    "# torch.savcnn.state_dictte_data(),'cnn.pkl')"
   ]
  },
  {
   "cell_type": "code",
   "execution_count": null,
   "metadata": {},
   "outputs": [],
   "source": [
    "a"
   ]
  }
 ],
 "metadata": {
  "kernelspec": {
   "display_name": "Python 2",
   "language": "python",
   "name": "python2"
  },
  "language_info": {
   "codemirror_mode": {
    "name": "ipython",
    "version": 2
   },
   "file_extension": ".py",
   "mimetype": "text/x-python",
   "name": "python",
   "nbconvert_exporter": "python",
   "pygments_lexer": "ipython2",
   "version": "2.7.14"
  }
 },
 "nbformat": 4,
 "nbformat_minor": 2
}
