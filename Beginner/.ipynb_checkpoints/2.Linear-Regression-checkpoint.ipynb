{
 "cells": [
  {
   "cell_type": "markdown",
   "metadata": {},
   "source": [
    "# Linear Regression Using PyTorch"
   ]
  },
  {
   "cell_type": "code",
   "execution_count": 1,
   "metadata": {},
   "outputs": [],
   "source": [
    "# imports\n",
    "import torch\n",
    "import torch.nn as nn\n",
    "import numpy as np\n",
    "from matplotlib import pyplot as plt\n",
    "%matplotlib inline \n",
    "from torch.autograd import Variable"
   ]
  },
  {
   "cell_type": "code",
   "execution_count": 2,
   "metadata": {},
   "outputs": [],
   "source": [
    "# HyperParameters \n",
    "# input_size , output_size\n",
    "# epochs , learning_rate\n",
    "input_size = 1 \n",
    "output_size = 1\n",
    "epochs = 50\n",
    "learning_rate = 0.001"
   ]
  },
  {
   "cell_type": "code",
   "execution_count": 3,
   "metadata": {},
   "outputs": [
    {
     "name": "stdout",
     "output_type": "stream",
     "text": [
      "(15, 1) (15, 1)\n"
     ]
    }
   ],
   "source": [
    "# Toy Dataset\n",
    "x_train = np.array([[3.3], [4.4], [5.5], [6.71], [6.93], [4.168], \n",
    "                    [9.779], [6.182], [7.59], [2.167], [7.042], \n",
    "                    [10.791], [5.313], [7.997], [3.1]], dtype=np.float32)\n",
    "\n",
    "y_train = np.array([[1.7], [2.76], [2.09], [3.19], [1.694], [1.573], \n",
    "                    [3.366], [2.596], [2.53], [1.221], [2.827], \n",
    "                    [3.465], [1.65], [2.904], [1.3]], dtype=np.float32)\n",
    "\n",
    "print x_train.shape , y_train.shape"
   ]
  },
  {
   "cell_type": "code",
   "execution_count": 4,
   "metadata": {},
   "outputs": [],
   "source": [
    "# python2 \n",
    "# super(ChildB, self).__init__()\n",
    "# python3\n",
    "# super().__init__() "
   ]
  },
  {
   "cell_type": "code",
   "execution_count": 5,
   "metadata": {},
   "outputs": [],
   "source": [
    "# LinearRegression Class\n",
    "class LinearRegression(nn.Module) :\n",
    "    def __init__ (self,input_size,output_size):\n",
    "        super(LinearRegression,self).__init__()\n",
    "        # put everything that can generate weights here.\n",
    "        self.linear = nn.Linear(input_size,output_size)\n",
    "        \n",
    "    def forward(self,x):\n",
    "        out= self.linear(x)\n",
    "        return out"
   ]
  },
  {
   "cell_type": "markdown",
   "metadata": {},
   "source": [
    "### Steps:\n",
    "1. Create Model\n",
    "2. Define Loss & Optimizer\n",
    "3. Training :\n",
    "       1. Inputs / Outputs\n",
    "       2. Forward Pass\n",
    "       3. Calculate Loss \n",
    "       4. Backpropogate\n",
    "       5. Optimizer step"
   ]
  },
  {
   "cell_type": "code",
   "execution_count": 6,
   "metadata": {},
   "outputs": [],
   "source": [
    "# Creating Model.\n",
    "model = LinearRegression(input_size,output_size)"
   ]
  },
  {
   "cell_type": "code",
   "execution_count": 7,
   "metadata": {},
   "outputs": [],
   "source": [
    "# define loss and optimizer \n",
    "criterion = nn.MSELoss()\n",
    "optimizer = torch.optim.SGD( model.parameters() , lr=learning_rate )"
   ]
  },
  {
   "cell_type": "code",
   "execution_count": 8,
   "metadata": {},
   "outputs": [
    {
     "name": "stdout",
     "output_type": "stream",
     "text": [
      "Epoch [5/50], Loss: 38.0151\n",
      "Epoch [10/50], Loss: 15.6497\n",
      "Epoch [15/50], Loss: 6.5888\n",
      "Epoch [20/50], Loss: 2.9176\n",
      "Epoch [25/50], Loss: 1.4300\n",
      "Epoch [30/50], Loss: 0.8270\n",
      "Epoch [35/50], Loss: 0.5823\n",
      "Epoch [40/50], Loss: 0.4828\n",
      "Epoch [45/50], Loss: 0.4421\n",
      "Epoch [50/50], Loss: 0.4253\n"
     ]
    }
   ],
   "source": [
    "# training \n",
    "for epoch in range(epochs):\n",
    "    #1. inputs/outputs\n",
    "    inputs = Variable(torch.from_numpy(x_train))\n",
    "    targets = Variable(torch.from_numpy(y_train))\n",
    "    \n",
    "    #2. Forward Pass\n",
    "    optimizer.zero_grad()\n",
    "    outputs = model(inputs)\n",
    "    \n",
    "    #3. Calculate Loss\n",
    "    loss = criterion(outputs,targets)\n",
    "    \n",
    "    #4. Backpropagate\n",
    "    loss.backward()\n",
    "    \n",
    "    #5. Optimizer step\n",
    "    optimizer.step()\n",
    "    \n",
    "    #Logs\n",
    "    if (epoch +1)%5 == 0 :\n",
    "         print 'Epoch [%d/%d], Loss: %.4f'%(epoch+1, epochs, loss.data[0])"
   ]
  },
  {
   "cell_type": "code",
   "execution_count": 9,
   "metadata": {},
   "outputs": [
    {
     "data": {
      "image/png": "[encoded data removed]",
      "text/plain": [
       "<matplotlib.figure.Figure at 0x10992da50>"
      ]
     },
     "metadata": {},
     "output_type": "display_data"
    }
   ],
   "source": [
    "#Plotting the graph.\n",
    "\n",
    "predicted = model(Variable(torch.from_numpy(x_train))).data.numpy()\n",
    "plt.plot(x_train,y_train,'ro',label='Original')\n",
    "plt.plot(x_train,predicted,label='Fitted Line')\n",
    "plt.legend()\n",
    "plt.show()"
   ]
  },
  {
   "cell_type": "code",
   "execution_count": 10,
   "metadata": {},
   "outputs": [],
   "source": [
    "# torch.save(model.state_dict(),'LRmodel.pkl')"
   ]
  },
  {
   "cell_type": "code",
   "execution_count": null,
   "metadata": {},
   "outputs": [],
   "source": []
  }
 ],
 "metadata": {
  "kernelspec": {
   "display_name": "Python 2",
   "language": "python",
   "name": "python2"
  },
  "language_info": {
   "codemirror_mode": {
    "name": "ipython",
    "version": 2
   },
   "file_extension": ".py",
   "mimetype": "text/x-python",
   "name": "python",
   "nbconvert_exporter": "python",
   "pygments_lexer": "ipython2",
   "version": "2.7.14"
  }
 },
 "nbformat": 4,
 "nbformat_minor": 2
}
