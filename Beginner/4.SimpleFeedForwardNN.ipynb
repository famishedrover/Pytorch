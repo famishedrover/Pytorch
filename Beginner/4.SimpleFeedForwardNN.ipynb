{
 "cells": [
  {
   "cell_type": "markdown",
   "metadata": {},
   "source": [
    "# Simple Feed Forward Neural Network"
   ]
  },
  {
   "cell_type": "code",
   "execution_count": 1,
   "metadata": {},
   "outputs": [],
   "source": [
    "# imports\n",
    "import torch\n",
    "import torch.nn as nn\n",
    "import torchvision.datasets as datasets\n",
    "import torchvision.transforms as transforms\n",
    "from torch.autograd import Variable"
   ]
  },
  {
   "cell_type": "code",
   "execution_count": 2,
   "metadata": {},
   "outputs": [],
   "source": [
    "# Hyperparameters\n",
    "input_size = 784\n",
    "hidden_size = 500\n",
    "num_classes = 10\n",
    "epochs = 5\n",
    "batch_size = 100\n",
    "learning_rate = 0.001"
   ]
  },
  {
   "cell_type": "code",
   "execution_count": 3,
   "metadata": {},
   "outputs": [],
   "source": [
    "# MNIST\n",
    "train_dataset=datasets.MNIST(root='./data',\n",
    "                            train=True,\n",
    "                            transform=transforms.ToTensor(),\n",
    "                            download=True)\n",
    "test_dataset=datasets.MNIST(root='./data',\n",
    "                           train=False,\n",
    "                           transform=transforms.ToTensor())"
   ]
  },
  {
   "cell_type": "code",
   "execution_count": 4,
   "metadata": {},
   "outputs": [],
   "source": [
    "# Loader \n",
    "train_loader = torch.utils.data.DataLoader(dataset=train_dataset,\n",
    "                                          batch_size=batch_size,\n",
    "                                          shuffle=True)\n",
    "test_loader = torch.utils.data.DataLoader(dataset=test_dataset,\n",
    "                                         batch_size=batch_size,\n",
    "                                         shuffle=True)"
   ]
  },
  {
   "cell_type": "code",
   "execution_count": 5,
   "metadata": {},
   "outputs": [],
   "source": [
    "# NN model\n",
    "class NNet(nn.Module):\n",
    "    def __init__(self,input_size,hidden_size,num_classes):\n",
    "        super(NNet,self).__init__()\n",
    "        \n",
    "        self.fc1=nn.Linear(input_size,hidden_size)\n",
    "        self.relu = nn.ReLU()\n",
    "        self.fc2 = nn.Linear(hidden_size,num_classes)\n",
    "    \n",
    "    def forward(self,x):\n",
    "        out = self.fc1(x)\n",
    "        out = self.relu(out)\n",
    "        out = self.fc2(out)\n",
    "        return out"
   ]
  },
  {
   "cell_type": "code",
   "execution_count": 6,
   "metadata": {},
   "outputs": [],
   "source": [
    "# Model \n",
    "net = NNet(input_size,hidden_size,num_classes)"
   ]
  },
  {
   "cell_type": "code",
   "execution_count": 7,
   "metadata": {},
   "outputs": [],
   "source": [
    "# Loss & Optimizer\n",
    "criterion = nn.CrossEntropyLoss()\n",
    "optimizer = torch.optim.Adam( net.parameters() ,lr =learning_rate )"
   ]
  },
  {
   "cell_type": "code",
   "execution_count": 8,
   "metadata": {
    "scrolled": true
   },
   "outputs": [
    {
     "name": "stdout",
     "output_type": "stream",
     "text": [
      "Epoch [1/5], Step [100/600], Loss: 0.4073\n",
      "Epoch [1/5], Step [200/600], Loss: 0.3095\n",
      "Epoch [1/5], Step [300/600], Loss: 0.3093\n",
      "Epoch [1/5], Step [400/600], Loss: 0.1110\n",
      "Epoch [1/5], Step [500/600], Loss: 0.1771\n",
      "Epoch [1/5], Step [600/600], Loss: 0.2769\n",
      "Epoch [2/5], Step [100/600], Loss: 0.1509\n",
      "Epoch [2/5], Step [200/600], Loss: 0.0921\n",
      "Epoch [2/5], Step [300/600], Loss: 0.1752\n",
      "Epoch [2/5], Step [400/600], Loss: 0.1117\n",
      "Epoch [2/5], Step [500/600], Loss: 0.0925\n",
      "Epoch [2/5], Step [600/600], Loss: 0.0414\n",
      "Epoch [3/5], Step [100/600], Loss: 0.0856\n",
      "Epoch [3/5], Step [200/600], Loss: 0.0484\n",
      "Epoch [3/5], Step [300/600], Loss: 0.0266\n",
      "Epoch [3/5], Step [400/600], Loss: 0.1037\n",
      "Epoch [3/5], Step [500/600], Loss: 0.0480\n",
      "Epoch [3/5], Step [600/600], Loss: 0.0558\n",
      "Epoch [4/5], Step [100/600], Loss: 0.0197\n",
      "Epoch [4/5], Step [200/600], Loss: 0.0679\n",
      "Epoch [4/5], Step [300/600], Loss: 0.1114\n",
      "Epoch [4/5], Step [400/600], Loss: 0.0603\n",
      "Epoch [4/5], Step [500/600], Loss: 0.0067\n",
      "Epoch [4/5], Step [600/600], Loss: 0.0190\n",
      "Epoch [5/5], Step [100/600], Loss: 0.0545\n",
      "Epoch [5/5], Step [200/600], Loss: 0.0430\n",
      "Epoch [5/5], Step [300/600], Loss: 0.1269\n",
      "Epoch [5/5], Step [400/600], Loss: 0.0194\n",
      "Epoch [5/5], Step [500/600], Loss: 0.0311\n",
      "Epoch [5/5], Step [600/600], Loss: 0.0237\n"
     ]
    }
   ],
   "source": [
    "# Train\n",
    "for epoch in range(epochs) :\n",
    "    for i,(images,labels) in enumerate(train_loader):\n",
    "        images = Variable(images.view(-1,28*28))\n",
    "        labels = Variable(labels)\n",
    "        \n",
    "        #Forward->loss->Backprop->Optimize\n",
    "        \n",
    "        optimizer.zero_grad()\n",
    "        outputs = net(images)\n",
    "        \n",
    "        loss = criterion(outputs,labels)\n",
    "        \n",
    "        loss.backward()\n",
    "        \n",
    "        optimizer.step()\n",
    "        \n",
    "        if (i+1) % 100 == 0:\n",
    "            print ('Epoch [%d/%d], Step [%d/%d], Loss: %.4f' \n",
    "                   %(epoch+1, epochs, i+1, len(train_dataset)//batch_size, loss.data[0]))\n",
    "            \n",
    "            "
   ]
  },
  {
   "cell_type": "code",
   "execution_count": 9,
   "metadata": {},
   "outputs": [
    {
     "name": "stdout",
     "output_type": "stream",
     "text": [
      "('Accuracy of the network on the ', 10000, ' test images: 98 %')\n"
     ]
    }
   ],
   "source": [
    "# Test\n",
    "correct = 0\n",
    "total = 0\n",
    "for images,labels in test_loader:\n",
    "    images = Variable(images.view(-1,28*28))\n",
    "    #nothing for labels.\n",
    "    outputs = net(images)\n",
    "    \n",
    "    _,predicted = torch.max(outputs.data,1)\n",
    "    \n",
    "    total+=labels.size(0)\n",
    "    \n",
    "    correct+= (predicted==labels).sum()\n",
    "print('Accuracy of the network on the ',total,' test images: %d %%' % (100 * correct / total))"
   ]
  },
  {
   "cell_type": "code",
   "execution_count": 10,
   "metadata": {},
   "outputs": [],
   "source": [
    "# save model\n",
    "# torch.save(net.state_dict(),'simpleNN.pkl')"
   ]
  },
  {
   "cell_type": "code",
   "execution_count": null,
   "metadata": {},
   "outputs": [],
   "source": []
  }
 ],
 "metadata": {
  "kernelspec": {
   "display_name": "Python 2",
   "language": "python",
   "name": "python2"
  },
  "language_info": {
   "codemirror_mode": {
    "name": "ipython",
    "version": 2
   },
   "file_extension": ".py",
   "mimetype": "text/x-python",
   "name": "python",
   "nbconvert_exporter": "python",
   "pygments_lexer": "ipython2",
   "version": "2.7.14"
  }
 },
 "nbformat": 4,
 "nbformat_minor": 2
}
